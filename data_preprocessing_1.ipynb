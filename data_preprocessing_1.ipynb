{
 "cells": [
  {
   "cell_type": "code",
   "execution_count": 1,
   "metadata": {},
   "outputs": [],
   "source": [
    "import pandas as pd\n",
    "reviews = pd.read_csv(\"recommendations.csv\")\n",
    "games = pd.read_csv(\"games.csv\")"
   ]
  },
  {
   "cell_type": "code",
   "execution_count": 2,
   "metadata": {},
   "outputs": [
    {
     "name": "stdout",
     "output_type": "stream",
     "text": [
      "           app_id  helpful  funny        date  is_recommended  hours  \\\n",
      "0          975370        0      0  2022-12-12            True   36.3   \n",
      "1          304390        4      0  2017-02-17           False   11.5   \n",
      "2         1085660        2      0  2019-11-17            True  336.5   \n",
      "3          703080        0      0  2022-09-23            True   27.4   \n",
      "4          526870        0      0  2021-01-10            True    7.9   \n",
      "...           ...      ...    ...         ...             ...    ...   \n",
      "41154789   633230        0      0  2021-02-15            True   41.0   \n",
      "41154790   758870        8      0  2019-07-18           False    8.0   \n",
      "41154791   696170        3     10  2018-03-26           False    2.0   \n",
      "41154792   696170        0      0  2018-06-11            True    4.0   \n",
      "41154793  1089980        2      0  2020-09-16            True   14.0   \n",
      "\n",
      "           user_id  review_id  \n",
      "0            51580          0  \n",
      "1             2586          1  \n",
      "2           253880          2  \n",
      "3           259432          3  \n",
      "4            23869          4  \n",
      "...            ...        ...  \n",
      "41154789   1606890   41154789  \n",
      "41154790   1786254   41154790  \n",
      "41154791   6370324   41154791  \n",
      "41154792   1044289   41154792  \n",
      "41154793  13971935   41154793  \n",
      "\n",
      "[41154794 rows x 8 columns]\n"
     ]
    }
   ],
   "source": [
    "print(reviews)"
   ]
  },
  {
   "cell_type": "code",
   "execution_count": null,
   "metadata": {},
   "outputs": [],
   "source": [
    "reviews = reviews.drop(columns= ['helpful', 'funny', 'date', 'hours', 'review_id'])\n",
    "print(reviews)"
   ]
  },
  {
   "cell_type": "code",
   "execution_count": null,
   "metadata": {},
   "outputs": [],
   "source": [
    "print(games)"
   ]
  },
  {
   "cell_type": "code",
   "execution_count": null,
   "metadata": {},
   "outputs": [],
   "source": [
    "games = games[games['win']]\n",
    "print(games)"
   ]
  },
  {
   "cell_type": "code",
   "execution_count": null,
   "metadata": {},
   "outputs": [],
   "source": [
    "games = games.drop(columns= ['win', 'mac', 'linux', 'rating', 'price_final', 'price_original', 'discount', 'steam_deck'])\n",
    "print(games)"
   ]
  },
  {
   "cell_type": "code",
   "execution_count": null,
   "metadata": {},
   "outputs": [],
   "source": [
    "games['sort_value'] = (games['positive_ratio']/100) ** 10 * games['user_reviews']\n",
    "\n",
    "# Sort DataFrame based on sort_value in descending order\n",
    "games = games.sort_values(by='sort_value', ascending=False)\n",
    "print(games)"
   ]
  },
  {
   "cell_type": "code",
   "execution_count": null,
   "metadata": {},
   "outputs": [],
   "source": [
    "games = games[games[\"user_reviews\"] >= 100]\n",
    "games.insert(0, 'sort_rank', range(1, len(games) + 1))\n",
    "print(games)"
   ]
  },
  {
   "cell_type": "code",
   "execution_count": null,
   "metadata": {},
   "outputs": [],
   "source": [
    "yakuza_games = games[games['title'].str.contains('pine', case=False)]\n",
    "\n",
    "print(yakuza_games)"
   ]
  },
  {
   "cell_type": "code",
   "execution_count": null,
   "metadata": {},
   "outputs": [],
   "source": [
    "common_app_ids = pd.Series(list(set(reviews['app_id']).intersection(set(games['app_id']))))\n",
    "print(common_app_ids)"
   ]
  },
  {
   "cell_type": "code",
   "execution_count": null,
   "metadata": {},
   "outputs": [],
   "source": [
    "reviews = reviews[reviews['app_id'].isin(common_app_ids)]\n",
    "games = games[games['app_id'].isin(common_app_ids)]"
   ]
  },
  {
   "cell_type": "code",
   "execution_count": null,
   "metadata": {},
   "outputs": [],
   "source": [
    "print(reviews)"
   ]
  },
  {
   "cell_type": "code",
   "execution_count": null,
   "metadata": {},
   "outputs": [],
   "source": [
    "print(games)"
   ]
  },
  {
   "cell_type": "code",
   "execution_count": null,
   "metadata": {},
   "outputs": [],
   "source": [
    "reviews = reviews.drop_duplicates()"
   ]
  },
  {
   "cell_type": "code",
   "execution_count": null,
   "metadata": {},
   "outputs": [],
   "source": [
    "reviews.to_csv(\"final_reviews.csv\", index=False)\n",
    "games.to_csv(\"final_games.csv\", index=False)"
   ]
  }
 ],
 "metadata": {
  "kernelspec": {
   "display_name": "Python 3",
   "language": "python",
   "name": "python3"
  },
  "language_info": {
   "codemirror_mode": {
    "name": "ipython",
    "version": 3
   },
   "file_extension": ".py",
   "mimetype": "text/x-python",
   "name": "python",
   "nbconvert_exporter": "python",
   "pygments_lexer": "ipython3",
   "version": "3.10.6"
  }
 },
 "nbformat": 4,
 "nbformat_minor": 2
}
